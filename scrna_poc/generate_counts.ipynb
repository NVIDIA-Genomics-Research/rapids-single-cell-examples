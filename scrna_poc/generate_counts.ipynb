{
 "cells": [
  {
   "cell_type": "markdown",
   "metadata": {},
   "source": [
    "# Generate cellxgene counts from SAM file"
   ]
  },
  {
   "cell_type": "code",
   "execution_count": 1,
   "metadata": {},
   "outputs": [],
   "source": [
    "import cudf \n",
    "\n",
    "import time\n",
    "import numpy as np\n",
    "\n",
    "start = time.time()"
   ]
  },
  {
   "cell_type": "code",
   "execution_count": 2,
   "metadata": {},
   "outputs": [
    {
     "name": "stdout",
     "output_type": "stream",
     "text": [
      "CPU times: user 1.18 s, sys: 681 ms, total: 1.86 s\n",
      "Wall time: 2 s\n"
     ]
    }
   ],
   "source": [
    "%%time\n",
    "df = cudf.read_csv(\"../data/custom_count.tsv\", header=None, sep=\"\\t\")"
   ]
  },
  {
   "cell_type": "code",
   "execution_count": 3,
   "metadata": {},
   "outputs": [
    {
     "name": "stdout",
     "output_type": "stream",
     "text": [
      "CPU times: user 194 ms, sys: 194 ms, total: 387 ms\n",
      "Wall time: 483 ms\n"
     ]
    }
   ],
   "source": [
    "%%time\n",
    "# Some light cudf preprocessing\n",
    "cell_molecule = df[\"0\"].str.split(\"_\")\n",
    "df[\"cell\"] = cell_molecule[1]\n",
    "df[\"molecule\"] = cell_molecule[2]\n",
    "df = df.rename({\"1\": \"gene\"})\n",
    "df = df.drop([\"0\"])"
   ]
  },
  {
   "cell_type": "code",
   "execution_count": 4,
   "metadata": {},
   "outputs": [
    {
     "name": "stdout",
     "output_type": "stream",
     "text": [
      "CPU times: user 473 ms, sys: 363 ms, total: 836 ms\n",
      "Wall time: 836 ms\n"
     ]
    }
   ],
   "source": [
    "%%time\n",
    "# Count unique molecules for each gene for each cell\n",
    "df = df.groupby([\"cell\", \"gene\"]).molecule.nunique().reset_index()"
   ]
  },
  {
   "cell_type": "code",
   "execution_count": 5,
   "metadata": {},
   "outputs": [
    {
     "data": {
      "text/html": [
       "<div>\n",
       "<style scoped>\n",
       "    .dataframe tbody tr th:only-of-type {\n",
       "        vertical-align: middle;\n",
       "    }\n",
       "\n",
       "    .dataframe tbody tr th {\n",
       "        vertical-align: top;\n",
       "    }\n",
       "\n",
       "    .dataframe thead th {\n",
       "        text-align: right;\n",
       "    }\n",
       "</style>\n",
       "<table border=\"1\" class=\"dataframe\">\n",
       "  <thead>\n",
       "    <tr style=\"text-align: right;\">\n",
       "      <th></th>\n",
       "      <th>cell</th>\n",
       "      <th>gene</th>\n",
       "      <th>molecule</th>\n",
       "    </tr>\n",
       "  </thead>\n",
       "  <tbody>\n",
       "    <tr>\n",
       "      <th>0</th>\n",
       "      <td>AAACCCAAGCGTATGG</td>\n",
       "      <td>AGL</td>\n",
       "      <td>1</td>\n",
       "    </tr>\n",
       "    <tr>\n",
       "      <th>1</th>\n",
       "      <td>AAACCCAAGCGTATGG</td>\n",
       "      <td>AGO4</td>\n",
       "      <td>1</td>\n",
       "    </tr>\n",
       "    <tr>\n",
       "      <th>2</th>\n",
       "      <td>AAACCCAAGCGTATGG</td>\n",
       "      <td>AGTRAP</td>\n",
       "      <td>3</td>\n",
       "    </tr>\n",
       "    <tr>\n",
       "      <th>3</th>\n",
       "      <td>AAACCCAAGCGTATGG</td>\n",
       "      <td>AHCYL1</td>\n",
       "      <td>2</td>\n",
       "    </tr>\n",
       "    <tr>\n",
       "      <th>4</th>\n",
       "      <td>AAACCCAAGCGTATGG</td>\n",
       "      <td>AK2</td>\n",
       "      <td>1</td>\n",
       "    </tr>\n",
       "    <tr>\n",
       "      <th>...</th>\n",
       "      <td>...</td>\n",
       "      <td>...</td>\n",
       "      <td>...</td>\n",
       "    </tr>\n",
       "    <tr>\n",
       "      <th>801252</th>\n",
       "      <td>TTTGTTGTCGCACGAC</td>\n",
       "      <td>WDR77</td>\n",
       "      <td>1</td>\n",
       "    </tr>\n",
       "    <tr>\n",
       "      <th>801253</th>\n",
       "      <td>TTTGTTGTCGCACGAC</td>\n",
       "      <td>WRAP73</td>\n",
       "      <td>1</td>\n",
       "    </tr>\n",
       "    <tr>\n",
       "      <th>801254</th>\n",
       "      <td>TTTGTTGTCGCACGAC</td>\n",
       "      <td>YBX1</td>\n",
       "      <td>5</td>\n",
       "    </tr>\n",
       "    <tr>\n",
       "      <th>801255</th>\n",
       "      <td>TTTGTTGTCGCACGAC</td>\n",
       "      <td>YTHDF2</td>\n",
       "      <td>1</td>\n",
       "    </tr>\n",
       "    <tr>\n",
       "      <th>801256</th>\n",
       "      <td>TTTGTTGTCGCACGAC</td>\n",
       "      <td>ZBTB48</td>\n",
       "      <td>1</td>\n",
       "    </tr>\n",
       "  </tbody>\n",
       "</table>\n",
       "<p>801257 rows × 3 columns</p>\n",
       "</div>"
      ],
      "text/plain": [
       "                    cell    gene  molecule\n",
       "0       AAACCCAAGCGTATGG     AGL         1\n",
       "1       AAACCCAAGCGTATGG    AGO4         1\n",
       "2       AAACCCAAGCGTATGG  AGTRAP         3\n",
       "3       AAACCCAAGCGTATGG  AHCYL1         2\n",
       "4       AAACCCAAGCGTATGG     AK2         1\n",
       "...                  ...     ...       ...\n",
       "801252  TTTGTTGTCGCACGAC   WDR77         1\n",
       "801253  TTTGTTGTCGCACGAC  WRAP73         1\n",
       "801254  TTTGTTGTCGCACGAC    YBX1         5\n",
       "801255  TTTGTTGTCGCACGAC  YTHDF2         1\n",
       "801256  TTTGTTGTCGCACGAC  ZBTB48         1\n",
       "\n",
       "[801257 rows x 3 columns]"
      ]
     },
     "execution_count": 5,
     "metadata": {},
     "output_type": "execute_result"
    }
   ],
   "source": [
    "df"
   ]
  },
  {
   "cell_type": "code",
   "execution_count": 6,
   "metadata": {},
   "outputs": [],
   "source": [
    "stop = time.time() - start"
   ]
  },
  {
   "cell_type": "code",
   "execution_count": 7,
   "metadata": {},
   "outputs": [
    {
     "name": "stdout",
     "output_type": "stream",
     "text": [
      "Total runtime: 3.495598316192627\n"
     ]
    }
   ],
   "source": [
    "print(\"Total runtime: \" + str(stop))"
   ]
  },
  {
   "cell_type": "code",
   "execution_count": 21,
   "metadata": {},
   "outputs": [
    {
     "name": "stdout",
     "output_type": "stream",
     "text": [
      "CPU times: user 940 µs, sys: 9.07 ms, total: 10 ms\n",
      "Wall time: 54.6 ms\n"
     ]
    }
   ],
   "source": [
    "%%time\n",
    "mito_genes = df[\"gene\"].str.startswith(\"MIT-\")"
   ]
  },
  {
   "cell_type": "code",
   "execution_count": 22,
   "metadata": {},
   "outputs": [
    {
     "name": "stdout",
     "output_type": "stream",
     "text": [
      "CPU times: user 1.41 ms, sys: 1.36 ms, total: 2.78 ms\n",
      "Wall time: 1.97 ms\n"
     ]
    },
    {
     "data": {
      "text/plain": [
       "Series([], dtype: bool)"
      ]
     },
     "execution_count": 22,
     "metadata": {},
     "output_type": "execute_result"
    }
   ],
   "source": [
    "%%time\n",
    "mito_genes[mito_genes==True]"
   ]
  },
  {
   "cell_type": "code",
   "execution_count": 23,
   "metadata": {},
   "outputs": [
    {
     "name": "stdout",
     "output_type": "stream",
     "text": [
      "CPU times: user 11.9 ms, sys: 15.8 ms, total: 27.8 ms\n",
      "Wall time: 28.8 ms\n"
     ]
    }
   ],
   "source": [
    "%%time\n",
    "df.cell_id = df.cell.astype('category').cat.codes"
   ]
  },
  {
   "cell_type": "code",
   "execution_count": 24,
   "metadata": {},
   "outputs": [
    {
     "data": {
      "text/plain": [
       "0            0\n",
       "1            0\n",
       "2            0\n",
       "3            0\n",
       "4            0\n",
       "          ... \n",
       "801252    5015\n",
       "801253    5015\n",
       "801254    5015\n",
       "801255    5015\n",
       "801256    5015\n",
       "Length: 801257, dtype: int32"
      ]
     },
     "execution_count": 24,
     "metadata": {},
     "output_type": "execute_result"
    }
   ],
   "source": [
    "df.cell_id"
   ]
  },
  {
   "cell_type": "code",
   "execution_count": 25,
   "metadata": {},
   "outputs": [
    {
     "name": "stdout",
     "output_type": "stream",
     "text": [
      "CPU times: user 13.1 ms, sys: 12 ms, total: 25.1 ms\n",
      "Wall time: 25.1 ms\n"
     ]
    }
   ],
   "source": [
    "%%time\n",
    "df.gene_id = df.gene.astype('category').cat.codes"
   ]
  },
  {
   "cell_type": "code",
   "execution_count": 26,
   "metadata": {},
   "outputs": [
    {
     "data": {
      "text/html": [
       "<div>\n",
       "<style scoped>\n",
       "    .dataframe tbody tr th:only-of-type {\n",
       "        vertical-align: middle;\n",
       "    }\n",
       "\n",
       "    .dataframe tbody tr th {\n",
       "        vertical-align: top;\n",
       "    }\n",
       "\n",
       "    .dataframe thead th {\n",
       "        text-align: right;\n",
       "    }\n",
       "</style>\n",
       "<table border=\"1\" class=\"dataframe\">\n",
       "  <thead>\n",
       "    <tr style=\"text-align: right;\">\n",
       "      <th></th>\n",
       "      <th>cell</th>\n",
       "      <th>gene</th>\n",
       "      <th>molecule</th>\n",
       "    </tr>\n",
       "  </thead>\n",
       "  <tbody>\n",
       "    <tr>\n",
       "      <th>0</th>\n",
       "      <td>AAACCCAAGCGTATGG</td>\n",
       "      <td>AGL</td>\n",
       "      <td>1.0</td>\n",
       "    </tr>\n",
       "    <tr>\n",
       "      <th>1</th>\n",
       "      <td>AAACCCAAGCGTATGG</td>\n",
       "      <td>AGO4</td>\n",
       "      <td>1.0</td>\n",
       "    </tr>\n",
       "    <tr>\n",
       "      <th>2</th>\n",
       "      <td>AAACCCAAGCGTATGG</td>\n",
       "      <td>AGTRAP</td>\n",
       "      <td>3.0</td>\n",
       "    </tr>\n",
       "    <tr>\n",
       "      <th>3</th>\n",
       "      <td>AAACCCAAGCGTATGG</td>\n",
       "      <td>AHCYL1</td>\n",
       "      <td>2.0</td>\n",
       "    </tr>\n",
       "    <tr>\n",
       "      <th>4</th>\n",
       "      <td>AAACCCAAGCGTATGG</td>\n",
       "      <td>AK2</td>\n",
       "      <td>1.0</td>\n",
       "    </tr>\n",
       "    <tr>\n",
       "      <th>...</th>\n",
       "      <td>...</td>\n",
       "      <td>...</td>\n",
       "      <td>...</td>\n",
       "    </tr>\n",
       "    <tr>\n",
       "      <th>801252</th>\n",
       "      <td>TTTGTTGTCGCACGAC</td>\n",
       "      <td>WDR77</td>\n",
       "      <td>1.0</td>\n",
       "    </tr>\n",
       "    <tr>\n",
       "      <th>801253</th>\n",
       "      <td>TTTGTTGTCGCACGAC</td>\n",
       "      <td>WRAP73</td>\n",
       "      <td>1.0</td>\n",
       "    </tr>\n",
       "    <tr>\n",
       "      <th>801254</th>\n",
       "      <td>TTTGTTGTCGCACGAC</td>\n",
       "      <td>YBX1</td>\n",
       "      <td>5.0</td>\n",
       "    </tr>\n",
       "    <tr>\n",
       "      <th>801255</th>\n",
       "      <td>TTTGTTGTCGCACGAC</td>\n",
       "      <td>YTHDF2</td>\n",
       "      <td>1.0</td>\n",
       "    </tr>\n",
       "    <tr>\n",
       "      <th>801256</th>\n",
       "      <td>TTTGTTGTCGCACGAC</td>\n",
       "      <td>ZBTB48</td>\n",
       "      <td>1.0</td>\n",
       "    </tr>\n",
       "  </tbody>\n",
       "</table>\n",
       "<p>801257 rows × 3 columns</p>\n",
       "</div>"
      ],
      "text/plain": [
       "                    cell    gene  molecule\n",
       "0       AAACCCAAGCGTATGG     AGL       1.0\n",
       "1       AAACCCAAGCGTATGG    AGO4       1.0\n",
       "2       AAACCCAAGCGTATGG  AGTRAP       3.0\n",
       "3       AAACCCAAGCGTATGG  AHCYL1       2.0\n",
       "4       AAACCCAAGCGTATGG     AK2       1.0\n",
       "...                  ...     ...       ...\n",
       "801252  TTTGTTGTCGCACGAC   WDR77       1.0\n",
       "801253  TTTGTTGTCGCACGAC  WRAP73       1.0\n",
       "801254  TTTGTTGTCGCACGAC    YBX1       5.0\n",
       "801255  TTTGTTGTCGCACGAC  YTHDF2       1.0\n",
       "801256  TTTGTTGTCGCACGAC  ZBTB48       1.0\n",
       "\n",
       "[801257 rows x 3 columns]"
      ]
     },
     "execution_count": 26,
     "metadata": {},
     "output_type": "execute_result"
    }
   ],
   "source": [
    "df"
   ]
  },
  {
   "cell_type": "code",
   "execution_count": 27,
   "metadata": {},
   "outputs": [],
   "source": [
    "n_cells = df.cell_id.max()+1\n",
    "n_genes = df.gene_id.max()+1\n"
   ]
  },
  {
   "cell_type": "code",
   "execution_count": 28,
   "metadata": {},
   "outputs": [
    {
     "data": {
      "text/plain": [
       "5016"
      ]
     },
     "execution_count": 28,
     "metadata": {},
     "output_type": "execute_result"
    }
   ],
   "source": [
    "n_cells"
   ]
  },
  {
   "cell_type": "code",
   "execution_count": 29,
   "metadata": {},
   "outputs": [
    {
     "data": {
      "text/plain": [
       "1967"
      ]
     },
     "execution_count": 29,
     "metadata": {},
     "output_type": "execute_result"
    }
   ],
   "source": [
    "n_genes"
   ]
  },
  {
   "cell_type": "code",
   "execution_count": 30,
   "metadata": {},
   "outputs": [
    {
     "name": "stdout",
     "output_type": "stream",
     "text": [
      "CPU times: user 5.59 ms, sys: 5.51 ms, total: 11.1 ms\n",
      "Wall time: 10.2 ms\n"
     ]
    }
   ],
   "source": [
    "%%time\n",
    "\n",
    "# Convert to sparse cupy array\n",
    "\n",
    "import cupy as cp\n",
    "\n",
    "df.molecule = df.molecule.astype('float32')\n",
    "\n",
    "rows = cp.array(df.cell_id.to_gpu_array())\n",
    "cols = cp.array(df.gene_id.to_gpu_array())\n",
    "vals = cp.array(df.molecule.to_gpu_array())\n",
    "\n",
    "coo = cp.sparse.coo_matrix((vals, (rows, cols)), shape=(n_cells, n_genes))"
   ]
  },
  {
   "cell_type": "code",
   "execution_count": 31,
   "metadata": {},
   "outputs": [
    {
     "data": {
      "text/plain": [
       "(5016, 1967)"
      ]
     },
     "execution_count": 31,
     "metadata": {},
     "output_type": "execute_result"
    }
   ],
   "source": [
    "coo.shape"
   ]
  },
  {
   "cell_type": "code",
   "execution_count": 32,
   "metadata": {},
   "outputs": [
    {
     "name": "stdout",
     "output_type": "stream",
     "text": [
      "CPU times: user 4.98 ms, sys: 2.05 ms, total: 7.03 ms\n",
      "Wall time: 78.2 ms\n"
     ]
    }
   ],
   "source": [
    "%%time\n",
    "coo = coo.log1p()"
   ]
  },
  {
   "cell_type": "code",
   "execution_count": 33,
   "metadata": {},
   "outputs": [
    {
     "data": {
      "text/plain": [
       "(5016, 1967)"
      ]
     },
     "execution_count": 33,
     "metadata": {},
     "output_type": "execute_result"
    }
   ],
   "source": [
    "coo.shape"
   ]
  },
  {
   "cell_type": "code",
   "execution_count": null,
   "metadata": {},
   "outputs": [],
   "source": []
  }
 ],
 "metadata": {
  "kernelspec": {
   "display_name": "Python (rapids-env5)",
   "language": "python",
   "name": "rapids-env5"
  },
  "language_info": {
   "codemirror_mode": {
    "name": "ipython",
    "version": 3
   },
   "file_extension": ".py",
   "mimetype": "text/x-python",
   "name": "python",
   "nbconvert_exporter": "python",
   "pygments_lexer": "ipython3",
   "version": "3.7.7"
  }
 },
 "nbformat": 4,
 "nbformat_minor": 4
}
