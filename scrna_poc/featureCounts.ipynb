{
 "cells": [
  {
   "cell_type": "code",
   "execution_count": 1,
   "metadata": {},
   "outputs": [],
   "source": [
    "import sys\n",
    "import argparse\n",
    "import operator\n",
    "import itertools\n",
    "import traceback\n",
    "import os.path\n",
    "import multiprocessing\n",
    "import pysam\n",
    "import HTSeq\n",
    "import time"
   ]
  },
  {
   "cell_type": "code",
   "execution_count": 2,
   "metadata": {},
   "outputs": [],
   "source": [
    "features_file = \"gencode.v33.primary_assembly.annotation.gff3\"\n",
    "bam_file = \"Aligned.sortedByCoord.out.bam\""
   ]
  },
  {
   "cell_type": "code",
   "execution_count": 3,
   "metadata": {},
   "outputs": [],
   "source": [
    "stranded = \"yes\"\n",
    "minaqual = 10\n",
    "\n",
    "# CIGAR match characters (including alignment match, sequence match, and sequence mismatch\n",
    "com = ('M', '=', 'X')\n",
    "\n",
    "n_workers = 16"
   ]
  },
  {
   "cell_type": "code",
   "execution_count": 4,
   "metadata": {},
   "outputs": [
    {
     "name": "stdout",
     "output_type": "stream",
     "text": [
      "CPU times: user 1min 42s, sys: 2.92 s, total: 1min 45s\n",
      "Wall time: 1min 45s\n"
     ]
    },
    {
     "data": {
      "text/plain": [
       "''"
      ]
     },
     "execution_count": 4,
     "metadata": {},
     "output_type": "execute_result"
    }
   ],
   "source": [
    "%%time\n",
    "alignment = pysam.AlignmentFile(bam_file)\n",
    "pysam.index(bam_file)"
   ]
  },
  {
   "cell_type": "code",
   "execution_count": 5,
   "metadata": {},
   "outputs": [],
   "source": [
    "# Pass if encountering an unknown chromosome\n",
    "class UnknownChrom(Exception):\n",
    "    pass\n",
    "\n",
    "# Check read and mapping quality\n",
    "def check_read(r, minaqual):\n",
    "    start = time.time()\n",
    "    return r.aligned and (not r.not_primary_alignment) and (not r.supplementary) and (r.aQual >= minaqual) and r.optional_field(\"NH\") == 1\n",
    "\n",
    "\n",
    "# Find genomic features that overlap with read\n",
    "def get_overlapping_features(r, features):\n",
    "    start = time.time()\n",
    "    iv_seq = (co.ref_iv for co in r.cigar if co.type in com and co.size > 0)\n",
    "    fs = set()\n",
    "    for iv in iv_seq:\n",
    "        if iv.chrom not in features.chrom_vectors:\n",
    "            raise UnknownChrom\n",
    "        for iv2, fs2 in features[iv].steps():\n",
    "            fs = fs.union(fs2)\n",
    "    return fs\n",
    "\n",
    "\n",
    "# Write output in tsv form\n",
    "def write_to_out(r, assignment, outfile):\n",
    "    name = r.read.name\n",
    "    outfile.write(name + \"\\t\" + assignment + \"\\n\")"
   ]
  },
  {
   "cell_type": "code",
   "execution_count": 6,
   "metadata": {},
   "outputs": [],
   "source": [
    "# Get features from GFF\n",
    "def GFFToFeatures(gff_filename, stranded):\n",
    "    start = time.time()\n",
    "    gff = HTSeq.GFF_Reader(gff_filename)\n",
    "    feature_scan = HTSeq.make_feature_genomicarrayofsets(\n",
    "        gff,\n",
    "        id_attribute='gene_name',\n",
    "        feature_type='exon',\n",
    "        feature_query=None,\n",
    "        stranded=stranded != 'no',\n",
    "        verbose=True)\n",
    "    features = feature_scan['features']\n",
    "    ret = features\n",
    "    print(\"Loaded features in: \" + str(time.time() - start))\n",
    "    return ret"
   ]
  },
  {
   "cell_type": "code",
   "execution_count": 7,
   "metadata": {},
   "outputs": [],
   "source": [
    "refs = pysam.AlignmentFile(bam_file).references"
   ]
  },
  {
   "cell_type": "code",
   "execution_count": 8,
   "metadata": {},
   "outputs": [],
   "source": [
    "def _process_file(features_file, filename, ref, stranded, minaqual):\n",
    "\n",
    "    # Prepare features\n",
    "    print(\"Loading features\")\n",
    "    features = GFFToFeatures(features_file, stranded)\n",
    "\n",
    "    # Open input file\n",
    "    print(\"Loading input file\")\n",
    "    read_seq_iter = iter(HTSeq.BAM_Reader(bam_file).fetch(ref))\n",
    "\n",
    "    # Initialize counts\n",
    "    i = 0\n",
    "\n",
    "    # Open output file\n",
    "    print(\"Opening output file handle\")\n",
    "    outfile = open(\"outs/\" + ref + \".txt\", 'w')\n",
    "\n",
    "    \n",
    "    print(\"Iterating over reads\")\n",
    "    for read in read_seq_iter:\n",
    "\n",
    "        # Track number of reads\n",
    "        if i > 0 and i % 1000000 == 0:\n",
    "            sys.stderr.write(\"%d alignment records processed.\\n\" %i)\n",
    "            sys.stderr.flush()\n",
    "        i += 1\n",
    "\n",
    "        # If read is good, get aligned genomic intervals\n",
    "        if check_read(read, minaqual):            \n",
    "\n",
    "            # Overlap the read-aligned genomic intervals with features.\n",
    "            fs = get_overlapping_features(read, features)\n",
    "\n",
    "            # Write output if read overlaps with one feature only.\n",
    "            if fs is not None and len(fs) == 1:\n",
    "                write_to_out(read, list(fs)[0], outfile)\n",
    "\n",
    "    outfile.close()\n"
   ]
  },
  {
   "cell_type": "code",
   "execution_count": 9,
   "metadata": {},
   "outputs": [
    {
     "name": "stderr",
     "output_type": "stream",
     "text": [
      "bokeh.server.util - WARNING - Host wildcard '*' will allow connections originating from multiple (or possibly all) hostnames or IPs. Use non-wildcard values to restrict access explicitly\n"
     ]
    }
   ],
   "source": [
    "from dask.distributed import LocalCluster, Client\n",
    "\n",
    "lc = LocalCluster(processes=True, n_workers=n_workers, threads_per_worker=1)\n",
    "client = Client(lc)"
   ]
  },
  {
   "cell_type": "code",
   "execution_count": null,
   "metadata": {},
   "outputs": [],
   "source": [
    "%%time\n",
    "results = [client.submit(_process_file, features_file, bam_file, ref, stranded, minaqual) for ref in refs]\n",
    "\n",
    "from dask.distributed import wait\n",
    "wait(results)"
   ]
  },
  {
   "cell_type": "code",
   "execution_count": null,
   "metadata": {},
   "outputs": [],
   "source": []
  }
 ],
 "metadata": {
  "kernelspec": {
   "display_name": "Python (rapids-env5)",
   "language": "python",
   "name": "rapids-env5"
  },
  "language_info": {
   "codemirror_mode": {
    "name": "ipython",
    "version": 3
   },
   "file_extension": ".py",
   "mimetype": "text/x-python",
   "name": "python",
   "nbconvert_exporter": "python",
   "pygments_lexer": "ipython3",
   "version": "3.7.7"
  }
 },
 "nbformat": 4,
 "nbformat_minor": 4
}
