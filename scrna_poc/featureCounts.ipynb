{
 "cells": [
  {
   "cell_type": "code",
   "execution_count": 1,
   "metadata": {},
   "outputs": [],
   "source": [
    "import sys\n",
    "import argparse\n",
    "import operator\n",
    "import itertools\n",
    "import traceback\n",
    "import os.path\n",
    "import multiprocessing\n",
    "import pysam\n",
    "import HTSeq\n",
    "import time"
   ]
  },
  {
   "cell_type": "code",
   "execution_count": 2,
   "metadata": {},
   "outputs": [],
   "source": [
    "features_file = \"gencode.v33.primary_assembly.annotation.gff3\"\n",
    "bam_file = \"Aligned.sortedByCoord.out.bam\""
   ]
  },
  {
   "cell_type": "code",
   "execution_count": 3,
   "metadata": {},
   "outputs": [],
   "source": [
    "stranded = \"yes\"\n",
    "minaqual = 10\n",
    "\n",
    "# CIGAR match characters (including alignment match, sequence match, and sequence mismatch\n",
    "com = ('M', '=', 'X')\n",
    "\n",
    "n_workers = 32"
   ]
  },
  {
   "cell_type": "code",
   "execution_count": 4,
   "metadata": {},
   "outputs": [
    {
     "name": "stdout",
     "output_type": "stream",
     "text": [
      "CPU times: user 7.98 ms, sys: 4.99 ms, total: 13 ms\n",
      "Wall time: 12.6 ms\n"
     ]
    }
   ],
   "source": [
    "%%time\n",
    "alignment = pysam.AlignmentFile(bam_file)\n"
   ]
  },
  {
   "cell_type": "code",
   "execution_count": 5,
   "metadata": {},
   "outputs": [
    {
     "name": "stdout",
     "output_type": "stream",
     "text": [
      "CPU times: user 1 µs, sys: 1e+03 ns, total: 2 µs\n",
      "Wall time: 5.25 µs\n"
     ]
    }
   ],
   "source": [
    "%%time\n",
    "#pysam.index(bam_file)"
   ]
  },
  {
   "cell_type": "code",
   "execution_count": 6,
   "metadata": {},
   "outputs": [],
   "source": [
    "# Pass if encountering an unknown chromosome\n",
    "class UnknownChrom(Exception):\n",
    "    pass\n",
    "\n",
    "# Check read and mapping quality\n",
    "def check_read(r, minaqual):\n",
    "    start = time.time()\n",
    "    return r.aligned and (not r.not_primary_alignment) and (not r.supplementary) and (r.aQual >= minaqual) and r.optional_field(\"NH\") == 1\n",
    "\n",
    "\n",
    "# Find genomic features that overlap with read\n",
    "def get_overlapping_features(r, features):\n",
    "    start = time.time()\n",
    "    iv_seq = (co.ref_iv for co in r.cigar if co.type in com and co.size > 0)\n",
    "    fs = set()\n",
    "    for iv in iv_seq:\n",
    "        if iv.chrom in features.chrom_vectors:\n",
    "            for iv2, fs2 in features[iv].steps():\n",
    "                fs = fs.union(fs2)\n",
    "    return fs\n",
    "\n",
    "\n",
    "# Write output in tsv form\n",
    "def write_to_out(r, assignment, outfile):\n",
    "    name = r.read.name\n",
    "    outfile.write(name + \"\\t\" + assignment + \"\\n\")"
   ]
  },
  {
   "cell_type": "code",
   "execution_count": 7,
   "metadata": {},
   "outputs": [],
   "source": [
    "# Get features from GFF\n",
    "def GFFToFeatures(gff_filename, stranded):\n",
    "    start = time.time()\n",
    "    gff = HTSeq.GFF_Reader(gff_filename)\n",
    "    feature_scan = HTSeq.make_feature_genomicarrayofsets(\n",
    "        gff,\n",
    "        id_attribute='gene_name',\n",
    "        feature_type='exon',\n",
    "        feature_query=None,\n",
    "        stranded=stranded != 'no',\n",
    "        verbose=True)\n",
    "    features = feature_scan['features']\n",
    "    ret = features\n",
    "    print(\"Loaded features in: \" + str(time.time() - start))\n",
    "    return ret"
   ]
  },
  {
   "cell_type": "code",
   "execution_count": 8,
   "metadata": {},
   "outputs": [],
   "source": [
    "refs = pysam.AlignmentFile(bam_file).references"
   ]
  },
  {
   "cell_type": "code",
   "execution_count": 9,
   "metadata": {},
   "outputs": [],
   "source": [
    "def _process_file(features, filename, ref, minaqual):\n",
    "\n",
    "    # Open input file\n",
    "    print(\"Loading input file\")\n",
    "    read_seq_iter = iter(HTSeq.BAM_Reader(bam_file).fetch(ref))\n",
    "\n",
    "    # Initialize counts\n",
    "    i = 0\n",
    "\n",
    "    # Open output file\n",
    "    print(\"Opening output file handle\")\n",
    "    outfile = open(\"outs/\" + ref + \".txt\", 'w')\n",
    "\n",
    "    \n",
    "    print(\"Iterating over reads\")\n",
    "    for read in read_seq_iter:\n",
    "\n",
    "        # Track number of reads\n",
    "        if i > 0 and i % 1000000 == 0:\n",
    "            sys.stderr.write(\"%d alignment records processed.\\n\" %i)\n",
    "            sys.stderr.flush()\n",
    "        i += 1\n",
    "\n",
    "        # If read is good, get aligned genomic intervals\n",
    "        if check_read(read, minaqual):            \n",
    "\n",
    "            # Overlap the read-aligned genomic intervals with features.\n",
    "            fs = get_overlapping_features(read, features)\n",
    "\n",
    "#             # Write output if read overlaps with one feature only.\n",
    "            if fs is not None and len(fs) == 1:\n",
    "                write_to_out(read, list(fs)[0], outfile)\n",
    "\n",
    "    outfile.close()\n"
   ]
  },
  {
   "cell_type": "code",
   "execution_count": 10,
   "metadata": {},
   "outputs": [
    {
     "name": "stdout",
     "output_type": "stream",
     "text": [
      "Loading features\n"
     ]
    },
    {
     "name": "stderr",
     "output_type": "stream",
     "text": [
      "100000 GFF lines processed.\n",
      "200000 GFF lines processed.\n",
      "300000 GFF lines processed.\n",
      "400000 GFF lines processed.\n",
      "500000 GFF lines processed.\n",
      "600000 GFF lines processed.\n",
      "700000 GFF lines processed.\n",
      "800000 GFF lines processed.\n",
      "900000 GFF lines processed.\n",
      "1000000 GFF lines processed.\n",
      "1100000 GFF lines processed.\n",
      "1200000 GFF lines processed.\n",
      "1300000 GFF lines processed.\n",
      "1400000 GFF lines processed.\n",
      "1500000 GFF lines processed.\n",
      "1600000 GFF lines processed.\n",
      "1700000 GFF lines processed.\n",
      "1800000 GFF lines processed.\n",
      "1900000 GFF lines processed.\n",
      "2000000 GFF lines processed.\n",
      "2100000 GFF lines processed.\n",
      "2200000 GFF lines processed.\n",
      "2300000 GFF lines processed.\n",
      "2400000 GFF lines processed.\n",
      "2500000 GFF lines processed.\n",
      "2600000 GFF lines processed.\n",
      "2700000 GFF lines processed.\n",
      "2800000 GFF lines processed.\n",
      "2900000 GFF lines processed.\n",
      "2907627 GFF lines processed.\n"
     ]
    },
    {
     "name": "stdout",
     "output_type": "stream",
     "text": [
      "Loaded features in: 181.62418413162231\n",
      "CPU times: user 3min, sys: 1.16 s, total: 3min 1s\n",
      "Wall time: 3min 1s\n"
     ]
    }
   ],
   "source": [
    "%%time\n",
    "# Prepare features\n",
    "print(\"Loading features\")\n",
    "features = GFFToFeatures(features_file, stranded)"
   ]
  },
  {
   "cell_type": "code",
   "execution_count": 11,
   "metadata": {},
   "outputs": [
    {
     "name": "stderr",
     "output_type": "stream",
     "text": [
      "bokeh.server.util - WARNING - Host wildcard '*' will allow connections originating from multiple (or possibly all) hostnames or IPs. Use non-wildcard values to restrict access explicitly\n"
     ]
    },
    {
     "data": {
      "text/html": [
       "<table style=\"border: 2px solid white;\">\n",
       "<tr>\n",
       "<td style=\"vertical-align: top; border: 0px solid white\">\n",
       "<h3 style=\"text-align: left;\">Client</h3>\n",
       "<ul style=\"text-align: left; list-style: none; margin: 0; padding: 0;\">\n",
       "  <li><b>Scheduler: </b>tcp://127.0.0.1:38928</li>\n",
       "  <li><b>Dashboard: </b><a href='http://127.0.0.1:8787/status' target='_blank'>http://127.0.0.1:8787/status</a>\n",
       "</ul>\n",
       "</td>\n",
       "<td style=\"vertical-align: top; border: 0px solid white\">\n",
       "<h3 style=\"text-align: left;\">Cluster</h3>\n",
       "<ul style=\"text-align: left; list-style:none; margin: 0; padding: 0;\">\n",
       "  <li><b>Workers: </b>32</li>\n",
       "  <li><b>Cores: </b>32</li>\n",
       "  <li><b>Memory: </b>50.39 GB</li>\n",
       "</ul>\n",
       "</td>\n",
       "</tr>\n",
       "</table>"
      ],
      "text/plain": [
       "<Client: 'tcp://127.0.0.1:38928' processes=32 threads=32, memory=50.39 GB>"
      ]
     },
     "execution_count": 11,
     "metadata": {},
     "output_type": "execute_result"
    }
   ],
   "source": [
    "from dask.distributed import LocalCluster, Client\n",
    "\n",
    "lc = LocalCluster(processes=True, n_workers=n_workers, threads_per_worker=1)\n",
    "client = Client(lc)\n",
    "client"
   ]
  },
  {
   "cell_type": "code",
   "execution_count": 12,
   "metadata": {},
   "outputs": [
    {
     "name": "stdout",
     "output_type": "stream",
     "text": [
      "CPU times: user 11.8 s, sys: 3.07 s, total: 14.8 s\n",
      "Wall time: 52.3 s\n"
     ]
    }
   ],
   "source": [
    "%%time\n",
    "features_data = client.scatter(features, broadcast=True)"
   ]
  },
  {
   "cell_type": "code",
   "execution_count": 13,
   "metadata": {},
   "outputs": [
    {
     "name": "stderr",
     "output_type": "stream",
     "text": [
      "bokeh.server.views.ws - WARNING - Failed sending message as connection was closed\n",
      "bokeh.server.views.ws - WARNING - Failed sending message as connection was closed\n"
     ]
    },
    {
     "name": "stdout",
     "output_type": "stream",
     "text": [
      "CPU times: user 5min 20s, sys: 1min 43s, total: 7min 4s\n",
      "Wall time: 30min 16s\n"
     ]
    },
    {
     "data": {
      "text/plain": [
       "DoneAndNotDoneFutures(done={<Future: finished, type: builtins.NoneType, key: _process_file-2eb07490-42fd-4c20-85c5-51d6d0bbd7f3>, <Future: finished, type: builtins.NoneType, key: _process_file-47741bab-3d74-4c09-9e10-dbc932c3ef53>, <Future: finished, type: builtins.NoneType, key: _process_file-e3d89269-794d-42a7-959f-89bae56dc293>, <Future: finished, type: builtins.NoneType, key: _process_file-2e6fc37e-9363-4f73-88e6-6a2d047e7be8>, <Future: finished, type: builtins.NoneType, key: _process_file-8e7c9108-ac3b-457d-9756-2fa1faa71b0d>, <Future: finished, type: builtins.NoneType, key: _process_file-8b2026e3-067d-4114-a765-ee9f3946e275>, <Future: finished, type: builtins.NoneType, key: _process_file-e5cec328-8064-4122-94e1-3c23b768bf87>, <Future: finished, type: builtins.NoneType, key: _process_file-f1c247e5-1575-4742-a021-c7fa41b37ec8>, <Future: finished, type: builtins.NoneType, key: _process_file-7006196c-1cdd-4124-9c7e-0d4b52df8753>, <Future: finished, type: builtins.NoneType, key: _process_file-b967d6c3-992c-425c-8216-1e93930bab87>, <Future: finished, type: builtins.NoneType, key: _process_file-d7f2197d-4d32-4420-913c-b0a69485bdf9>, <Future: finished, type: builtins.NoneType, key: _process_file-ec29ca8e-ea81-499e-b9a3-87f77bbb1a3f>, <Future: finished, type: builtins.NoneType, key: _process_file-c3416c51-fda5-4eac-981c-7d540838f83e>, <Future: finished, type: builtins.NoneType, key: _process_file-2f98e2b8-e08c-4b21-a202-e71dd237eed0>, <Future: finished, type: builtins.NoneType, key: _process_file-07fdd828-d09c-4d66-9f21-c58f1fa5826c>, <Future: finished, type: builtins.NoneType, key: _process_file-383826d6-562f-4d6c-b7a8-d986b1695f12>, <Future: finished, type: builtins.NoneType, key: _process_file-f3bfb381-5da9-4091-a91c-eac4a880e2da>, <Future: finished, type: builtins.NoneType, key: _process_file-df67f018-9fc3-4244-b3bc-00be1a7de5ce>, <Future: finished, type: builtins.NoneType, key: _process_file-a89cfd64-5244-419d-9d61-178858347049>, <Future: finished, type: builtins.NoneType, key: _process_file-85c4c134-0c13-41ec-9ccc-142b0837876f>, <Future: finished, type: builtins.NoneType, key: _process_file-54b46ef3-b1c0-425f-b4f5-90200f6f9def>, <Future: finished, type: builtins.NoneType, key: _process_file-335059e4-82a0-419d-8e03-f7fb86059ee8>, <Future: finished, type: builtins.NoneType, key: _process_file-1cf6a56b-f914-491e-91d1-d56af781277c>, <Future: finished, type: builtins.NoneType, key: _process_file-b48df78d-c0ce-470a-8ecb-da5cffc186b5>, <Future: finished, type: builtins.NoneType, key: _process_file-6fc6f50c-c7db-4030-89d0-400245c9e67d>, <Future: finished, type: builtins.NoneType, key: _process_file-ed2c636c-3744-4b69-9283-0b69aa22e795>, <Future: finished, type: builtins.NoneType, key: _process_file-c1092830-179c-410b-b80c-c9f2bf9e5243>, <Future: finished, type: builtins.NoneType, key: _process_file-23b0f76b-1b85-410e-a3b4-e50382585424>, <Future: finished, type: builtins.NoneType, key: _process_file-099bb871-3158-4fbf-bac0-4745afcec399>, <Future: finished, type: builtins.NoneType, key: _process_file-8f7fb43f-4d00-4879-bea3-cd97b1acb277>, <Future: finished, type: builtins.NoneType, key: _process_file-8538665d-7e33-48bb-974a-6284bb756e71>, <Future: finished, type: builtins.NoneType, key: _process_file-e9dad47f-ad3a-445e-bc50-ba00092d6f0d>, <Future: finished, type: builtins.NoneType, key: _process_file-ce84e4c2-e0b2-4353-a0e3-1889b93f33ab>, <Future: finished, type: builtins.NoneType, key: _process_file-54fade3c-2cba-4fdd-8685-f2e440b9e204>, <Future: finished, type: builtins.NoneType, key: _process_file-40e4013c-0fa6-4aaa-93b5-05f80a71319a>, <Future: finished, type: builtins.NoneType, key: _process_file-e4166973-ac64-44f1-9075-316fd496e41c>, <Future: finished, type: builtins.NoneType, key: _process_file-0f8021eb-3a2a-459f-aa9a-49b72687b7cf>, <Future: finished, type: builtins.NoneType, key: _process_file-9b466a49-2288-4c46-bcb9-4f0be6edd853>, <Future: finished, type: builtins.NoneType, key: _process_file-b6523b10-4579-4cfe-a5d7-8e8a381e4e68>, <Future: finished, type: builtins.NoneType, key: _process_file-5806ca91-efee-4f05-bd27-d7ee05a6ba9f>, <Future: finished, type: builtins.NoneType, key: _process_file-1ba90269-abf7-4940-9ca2-4b7162e1db1f>, <Future: finished, type: builtins.NoneType, key: _process_file-8e0bd1fb-4d3a-4b2f-98a1-479292c11ba3>, <Future: finished, type: builtins.NoneType, key: _process_file-15b5882d-9d39-4c63-bc61-377273f1fc3b>, <Future: finished, type: builtins.NoneType, key: _process_file-19669557-6d21-465b-b5b4-acbf775df27e>, <Future: finished, type: builtins.NoneType, key: _process_file-c510f7d8-b60a-4cf3-ac86-fa4a687c5b94>, <Future: finished, type: builtins.NoneType, key: _process_file-b72e0c7e-41c6-4c22-a462-f69621109d02>, <Future: finished, type: builtins.NoneType, key: _process_file-30fda822-9667-46fb-b754-89d04ba5666d>, <Future: finished, type: builtins.NoneType, key: _process_file-fd86ea60-d60d-48a6-af9b-98b158a63c84>, <Future: finished, type: builtins.NoneType, key: _process_file-46b85faa-0900-446d-94cc-9b6067b8f88a>, <Future: finished, type: builtins.NoneType, key: _process_file-bbe3e529-b33f-49d9-adce-9bb4aba14f0a>, <Future: finished, type: builtins.NoneType, key: _process_file-fb49ee32-3fbc-4f75-a7b1-c836673fa561>, <Future: finished, type: builtins.NoneType, key: _process_file-1dee4d48-cc23-4a38-8314-dbf253a0dd4b>, <Future: finished, type: builtins.NoneType, key: _process_file-a979a9dc-be1c-4ec0-ac9f-684546c83258>, <Future: finished, type: builtins.NoneType, key: _process_file-1b14801a-ea84-44f6-9116-901180b935cc>, <Future: finished, type: builtins.NoneType, key: _process_file-e6a0544a-fe91-4f60-b919-a542a91dd1b1>, <Future: finished, type: builtins.NoneType, key: _process_file-c0337a45-f8e6-471f-95d3-cc8146fa4a0b>, <Future: finished, type: builtins.NoneType, key: _process_file-9e29286f-0bc2-4409-b28f-87533f26f971>, <Future: finished, type: builtins.NoneType, key: _process_file-02127e00-ca95-4e80-9689-61c4d84cc403>, <Future: finished, type: builtins.NoneType, key: _process_file-7aa7bc3f-a0f6-4581-ba63-5ade854db6fa>, <Future: finished, type: builtins.NoneType, key: _process_file-483cfb05-43b2-4046-953c-c48f5a7faa6b>, <Future: finished, type: builtins.NoneType, key: _process_file-858c615b-af43-4ee9-b323-1c3cd2cb731d>, <Future: finished, type: builtins.NoneType, key: _process_file-e7d4d8c5-9d32-4351-ae0c-be382f092d12>, <Future: finished, type: builtins.NoneType, key: _process_file-dfa4fe16-2157-4241-869a-b7eaf19f8c2d>, <Future: finished, type: builtins.NoneType, key: _process_file-a79ce6a3-8796-4f31-90aa-13225bbd20e8>, <Future: finished, type: builtins.NoneType, key: _process_file-6e5808cc-41ca-4818-a9f1-5a5b52d7311d>, <Future: finished, type: builtins.NoneType, key: _process_file-cacdc3e7-0670-4cc3-8120-36ea6ab697d9>, <Future: finished, type: builtins.NoneType, key: _process_file-7b71ca7c-5c1c-4115-bf1f-f25283087f11>, <Future: finished, type: builtins.NoneType, key: _process_file-0080e234-8054-4032-be44-6d9abaf85079>, <Future: finished, type: builtins.NoneType, key: _process_file-6d6727e1-4e30-467e-95b6-9b747fb37040>, <Future: finished, type: builtins.NoneType, key: _process_file-22746491-7059-4c4a-b4a3-dfb829e74134>, <Future: finished, type: builtins.NoneType, key: _process_file-a52aa8ff-525c-47b9-ac82-2233273a9367>, <Future: finished, type: builtins.NoneType, key: _process_file-efce2e55-1d64-4dc9-afcd-a157a2b699f9>, <Future: finished, type: builtins.NoneType, key: _process_file-db408024-0915-4e3c-a356-325bee053b9f>, <Future: finished, type: builtins.NoneType, key: _process_file-5a97747f-a6c2-45f1-affc-7cd693f05b59>, <Future: finished, type: builtins.NoneType, key: _process_file-a120890c-42b5-41c3-99a0-9fcb49ec570b>, <Future: finished, type: builtins.NoneType, key: _process_file-1d517956-e0b1-4663-aa43-6e2ede0c67b7>, <Future: finished, type: builtins.NoneType, key: _process_file-21d63d5a-70f2-4b87-b3e3-ed084566e2fa>, <Future: finished, type: builtins.NoneType, key: _process_file-762d1a4a-d0de-41a0-960f-4e4e83759726>, <Future: finished, type: builtins.NoneType, key: _process_file-5b53d919-0b27-4cb5-a877-826f3a44eade>, <Future: finished, type: builtins.NoneType, key: _process_file-1150a110-ce35-405b-b717-7d08b12163a2>, <Future: finished, type: builtins.NoneType, key: _process_file-b9269f16-890c-4b10-a444-c7563caa5d83>, <Future: finished, type: builtins.NoneType, key: _process_file-f007b87d-ad3c-4790-83e3-f1c72ef50d61>, <Future: finished, type: builtins.NoneType, key: _process_file-572680cb-cf5f-46ff-b35a-278012af2fd8>, <Future: finished, type: builtins.NoneType, key: _process_file-aed83863-0b00-4333-b04e-97776ac8180e>, <Future: finished, type: builtins.NoneType, key: _process_file-d48afde2-7c17-442c-8031-2d607c6be54b>, <Future: finished, type: builtins.NoneType, key: _process_file-9e088a5f-7a1a-4f38-ab33-b9ac4b68219c>, <Future: finished, type: builtins.NoneType, key: _process_file-a9db917d-09a5-426d-9986-35923a5b6e46>, <Future: finished, type: builtins.NoneType, key: _process_file-8725d924-9e92-4169-a94c-1f51cb009bd0>, <Future: finished, type: builtins.NoneType, key: _process_file-a51f021e-4868-4479-94b0-1cca00419107>, <Future: finished, type: builtins.NoneType, key: _process_file-bfa76bd7-1814-43b4-a889-c62c3830082d>, <Future: finished, type: builtins.NoneType, key: _process_file-51955841-4091-462b-b240-b5459d89425f>, <Future: finished, type: builtins.NoneType, key: _process_file-f14c6608-e987-4360-835a-19272bc4bebc>, <Future: finished, type: builtins.NoneType, key: _process_file-7577b6af-41f9-4317-9058-e3c15271cf33>, <Future: finished, type: builtins.NoneType, key: _process_file-81db98af-e09f-404e-a3f2-7f9c108bb640>, <Future: finished, type: builtins.NoneType, key: _process_file-f8bf0e6e-a42e-4d08-96ef-ded13bbd9418>, <Future: finished, type: builtins.NoneType, key: _process_file-81113f31-8f3e-47ad-9baa-166b30bd0af8>, <Future: finished, type: builtins.NoneType, key: _process_file-7dc69d07-77cd-4e11-a519-87fbac8b75a7>, <Future: finished, type: builtins.NoneType, key: _process_file-4e729f53-afc9-40e2-9c75-8598f52ac25f>, <Future: finished, type: builtins.NoneType, key: _process_file-420b3c0f-7204-472d-bb09-224c162afda6>, <Future: finished, type: builtins.NoneType, key: _process_file-fa49bee9-07c7-46f2-ad74-3672ae587c09>, <Future: finished, type: builtins.NoneType, key: _process_file-212472dc-397f-4a36-a996-618643009b72>, <Future: finished, type: builtins.NoneType, key: _process_file-3d4ee9e6-b73e-4539-9e38-a987e8ad2afd>, <Future: finished, type: builtins.NoneType, key: _process_file-6b1214e6-e252-4b1e-8542-055606c6d27f>, <Future: finished, type: builtins.NoneType, key: _process_file-e9aa05e4-560a-4b10-b42f-87a96a31d984>, <Future: finished, type: builtins.NoneType, key: _process_file-5a16e1f2-6283-49ac-ad41-f9c7972b61ec>, <Future: finished, type: builtins.NoneType, key: _process_file-f5728606-6931-4949-ad14-7c703f3d0db1>, <Future: finished, type: builtins.NoneType, key: _process_file-ae65f3ca-7a44-42f0-8787-c2b160f3eb41>, <Future: finished, type: builtins.NoneType, key: _process_file-e5480eed-bb99-4929-aadd-9ec32e677689>, <Future: finished, type: builtins.NoneType, key: _process_file-2ace5746-a890-44e8-9f6f-90f616bae0fa>, <Future: finished, type: builtins.NoneType, key: _process_file-28c07845-46bb-4a66-ad98-ec03d5d8fffb>, <Future: finished, type: builtins.NoneType, key: _process_file-b2276a07-0444-4b7d-8f5d-45652e31cbc5>, <Future: finished, type: builtins.NoneType, key: _process_file-7dc78aaa-a753-4e03-8240-ea3a04c9431a>, <Future: finished, type: builtins.NoneType, key: _process_file-61faae7d-df59-402a-8b15-af0e29ba0cb2>, <Future: finished, type: builtins.NoneType, key: _process_file-d5c4ecb5-c1d8-470a-bef9-8cfed27286a1>, <Future: finished, type: builtins.NoneType, key: _process_file-dc5ceb07-2628-438d-aafd-1266095de0a4>, <Future: finished, type: builtins.NoneType, key: _process_file-bb5766ef-ed83-4dcf-8f7a-56b7d538ec31>, <Future: finished, type: builtins.NoneType, key: _process_file-46b019f2-ba21-4376-be31-b8bb6e3857f8>, <Future: finished, type: builtins.NoneType, key: _process_file-3a6b9cd7-1222-42e6-a722-961b60903407>, <Future: finished, type: builtins.NoneType, key: _process_file-d7b13a49-7862-4f7a-bb7d-300bbd450716>, <Future: finished, type: builtins.NoneType, key: _process_file-b00e1f2c-f7d0-421c-be76-2bee4942db5e>, <Future: finished, type: builtins.NoneType, key: _process_file-feb3b7a0-8945-4bcb-9f44-b89e2f502e84>, <Future: finished, type: builtins.NoneType, key: _process_file-36706d9f-27a7-4af4-8444-ba33a3a64117>, <Future: finished, type: builtins.NoneType, key: _process_file-81f9018a-1488-49d7-a5a7-03499b503eb3>, <Future: finished, type: builtins.NoneType, key: _process_file-1bfc17ba-e8d1-433c-8ab1-e80e7d134d76>, <Future: finished, type: builtins.NoneType, key: _process_file-6b5137b2-6d43-491f-a29d-ca9efdc6ff5b>, <Future: finished, type: builtins.NoneType, key: _process_file-00e20bbe-633c-4a48-a5a8-b9d09c9302f1>, <Future: finished, type: builtins.NoneType, key: _process_file-55742dd2-8a55-4516-9e35-60d6d1701b69>, <Future: finished, type: builtins.NoneType, key: _process_file-bdd1d081-56dc-4aea-99a1-e80234357d95>, <Future: finished, type: builtins.NoneType, key: _process_file-3466872e-6f70-4ead-946c-7205242f2944>, <Future: finished, type: builtins.NoneType, key: _process_file-c2a2a59c-ff01-4f04-8aa4-ea7cd763efa4>, <Future: finished, type: builtins.NoneType, key: _process_file-08c60b29-6531-444d-a2e1-a578ecdcca2f>, <Future: finished, type: builtins.NoneType, key: _process_file-5e664034-d3dd-4b8d-9998-ba199e395cdf>, <Future: finished, type: builtins.NoneType, key: _process_file-51226234-ce6e-4b22-b671-ee3949e1b67c>, <Future: finished, type: builtins.NoneType, key: _process_file-38cec6e2-d528-454f-adc9-75db9472e6b2>, <Future: finished, type: builtins.NoneType, key: _process_file-b5727bf7-5340-4520-9a0a-2661784795ad>, <Future: finished, type: builtins.NoneType, key: _process_file-53edccc5-aec7-43dc-979a-ec518e0009a2>, <Future: finished, type: builtins.NoneType, key: _process_file-f9a0fbd5-2e7f-4957-8fcd-5a8f754ee19d>, <Future: finished, type: builtins.NoneType, key: _process_file-d26886f3-00f3-4697-ab2b-2cf56d5eb31b>, <Future: finished, type: builtins.NoneType, key: _process_file-ce5f479e-532b-4d33-93b0-1f435dafd004>, <Future: finished, type: builtins.NoneType, key: _process_file-f9750700-7b7b-42f6-a398-71403914c8fb>, <Future: finished, type: builtins.NoneType, key: _process_file-35eda653-5f2e-40b3-adfd-d51eb3347b53>, <Future: finished, type: builtins.NoneType, key: _process_file-33af4ff0-b6df-4bee-87f1-d401caf0ec97>, <Future: finished, type: builtins.NoneType, key: _process_file-2ad69126-63db-457d-9a20-59a9b4c83ce8>, <Future: finished, type: builtins.NoneType, key: _process_file-7e44ac86-7d3b-4de0-8f37-156bcff2bd9e>, <Future: finished, type: builtins.NoneType, key: _process_file-70575a0d-0452-48fe-976c-14a4ad2e96b1>, <Future: finished, type: builtins.NoneType, key: _process_file-abf95eee-accb-4949-a58b-229d2fa07b3f>, <Future: finished, type: builtins.NoneType, key: _process_file-87d0fa33-e9f1-4496-b0a1-289b7f27671d>, <Future: finished, type: builtins.NoneType, key: _process_file-b7b94fe3-8c59-404f-a144-3853f37865dd>, <Future: finished, type: builtins.NoneType, key: _process_file-c46ed626-a71b-4964-9290-859761d83111>, <Future: finished, type: builtins.NoneType, key: _process_file-f099ab2e-fd11-43a8-ac2e-9b221dfd716e>, <Future: finished, type: builtins.NoneType, key: _process_file-e8dc434d-97cb-40e8-a250-dd6c1f6ceff0>, <Future: finished, type: builtins.NoneType, key: _process_file-00314388-7b3e-4433-ba03-3e8a2baf845b>, <Future: finished, type: builtins.NoneType, key: _process_file-b9a0f650-9f03-4f3e-b4bf-e0f6421cc8c2>, <Future: finished, type: builtins.NoneType, key: _process_file-8101fb39-2f62-45bc-a726-b8be49df491d>, <Future: finished, type: builtins.NoneType, key: _process_file-1ab152d0-734d-4533-8c3e-8ac325a5ba83>, <Future: finished, type: builtins.NoneType, key: _process_file-be29a2cb-71ff-40db-8a4f-043680e8ca88>, <Future: finished, type: builtins.NoneType, key: _process_file-54ef0c33-362c-4719-b087-dbdf5816ceae>, <Future: finished, type: builtins.NoneType, key: _process_file-76bd2786-ce17-4813-8670-082f749e214d>, <Future: finished, type: builtins.NoneType, key: _process_file-44c6fca6-4c6b-4ffa-851e-607d8e0e5db4>, <Future: finished, type: builtins.NoneType, key: _process_file-5c727c6c-2fe4-4a9c-be0d-c42eb243f7db>, <Future: finished, type: builtins.NoneType, key: _process_file-9dee9487-02a3-44c9-ad9f-b373a9deea88>, <Future: finished, type: builtins.NoneType, key: _process_file-00984fac-0830-4398-92c7-7aff0e5b7224>, <Future: finished, type: builtins.NoneType, key: _process_file-27ffe9cb-55bf-4130-8c54-faddc09e8ab0>, <Future: finished, type: builtins.NoneType, key: _process_file-907d843c-3fc3-4325-af87-6644c3983a2a>, <Future: finished, type: builtins.NoneType, key: _process_file-ecdb203a-79a9-47c5-b38b-49a7bfbf6db2>, <Future: finished, type: builtins.NoneType, key: _process_file-4eb1afd0-8729-4f2e-8237-8b5f57a643d8>, <Future: finished, type: builtins.NoneType, key: _process_file-a3fdc3ec-ad54-4d20-828e-697bda790d2f>, <Future: finished, type: builtins.NoneType, key: _process_file-2d627525-1c9b-4e2a-bb0a-f17e43db2365>, <Future: finished, type: builtins.NoneType, key: _process_file-bc0acd1b-7841-448a-8a1d-5a5c74e09704>, <Future: finished, type: builtins.NoneType, key: _process_file-373fd320-906a-442c-bcb4-0e1847c583fb>, <Future: finished, type: builtins.NoneType, key: _process_file-d33da6b6-16e4-4f34-ad22-0415c0ad731f>, <Future: finished, type: builtins.NoneType, key: _process_file-f13a0935-df4d-426f-8fd6-f39c18d60657>, <Future: finished, type: builtins.NoneType, key: _process_file-b5f41542-43fc-492b-a51d-00f247a60e18>, <Future: finished, type: builtins.NoneType, key: _process_file-2ecca627-df56-4d40-9a83-1d7ebc6cf913>, <Future: finished, type: builtins.NoneType, key: _process_file-bfcea3f4-3aa3-4e8f-8b39-2f8353c2c089>, <Future: finished, type: builtins.NoneType, key: _process_file-bfcaeef2-42a4-4f8b-93b9-d3acb0da8fa5>, <Future: finished, type: builtins.NoneType, key: _process_file-33d0c015-be8a-4a37-aaea-1f2cf3157753>, <Future: finished, type: builtins.NoneType, key: _process_file-39a403fb-1c61-441d-b3e0-5b1e12c6127a>, <Future: finished, type: builtins.NoneType, key: _process_file-685b63b8-74b6-45f2-894b-212dd9bdbce3>, <Future: finished, type: builtins.NoneType, key: _process_file-4f19dc9c-4baa-457e-978e-d8f80e133bcf>, <Future: finished, type: builtins.NoneType, key: _process_file-7e44267b-2b86-4766-9d7d-a6ca8431865e>, <Future: finished, type: builtins.NoneType, key: _process_file-a66efbc9-c46b-476b-9ff1-c3681b9e858c>, <Future: finished, type: builtins.NoneType, key: _process_file-5e51f1fe-ec4f-4dd9-aa99-12ddf21b02b9>, <Future: finished, type: builtins.NoneType, key: _process_file-c716d4d3-ed98-4b49-add0-3aea9774c257>, <Future: finished, type: builtins.NoneType, key: _process_file-1c890b07-4b63-48e9-86aa-b01628127015>, <Future: finished, type: builtins.NoneType, key: _process_file-6f6e16c9-b8b9-41c5-9669-f5052586c0e3>, <Future: finished, type: builtins.NoneType, key: _process_file-896df6ee-b61a-4c77-a60a-ae594aef4883>, <Future: finished, type: builtins.NoneType, key: _process_file-73310e23-383e-42de-80e7-a2ac48efcf8a>, <Future: finished, type: builtins.NoneType, key: _process_file-4276c557-30a3-4ccf-9fe8-0e47de16f5e7>, <Future: finished, type: builtins.NoneType, key: _process_file-7a8d8713-7af6-4a79-96a0-71fa20352fff>, <Future: finished, type: builtins.NoneType, key: _process_file-6421cd3b-142d-44c6-ba80-e1400f3f2370>, <Future: finished, type: builtins.NoneType, key: _process_file-f4af6495-8c2c-468c-9e7f-55944d55995b>, <Future: finished, type: builtins.NoneType, key: _process_file-b2d3f17f-0b94-42d8-9dda-cfac9074e41a>, <Future: finished, type: builtins.NoneType, key: _process_file-8190b2cd-028f-4116-882f-b28ba8af3bec>}, not_done=set())"
      ]
     },
     "execution_count": 13,
     "metadata": {},
     "output_type": "execute_result"
    }
   ],
   "source": [
    "%%time\n",
    "\n",
    "results = [client.submit(_process_file, features_data, bam_file, ref, minaqual, pure=False) for ref in refs]\n",
    "\n",
    "from dask.distributed import wait\n",
    "wait(results)"
   ]
  },
  {
   "cell_type": "code",
   "execution_count": 19,
   "metadata": {},
   "outputs": [],
   "source": [
    "%%time\n",
    "import glob\n",
    "import os\n",
    "filelist=glob.glob(\"outs/*.txt\")\n",
    "for file in filelist:\n",
    "    if os.stat(file).st_size == 0:\n",
    "        os.remove(file)\n"
   ]
  }
 ],
 "metadata": {
  "kernelspec": {
   "display_name": "Python (rapids-env5)",
   "language": "python",
   "name": "rapids-env5"
  },
  "language_info": {
   "codemirror_mode": {
    "name": "ipython",
    "version": 3
   },
   "file_extension": ".py",
   "mimetype": "text/x-python",
   "name": "python",
   "nbconvert_exporter": "python",
   "pygments_lexer": "ipython3",
   "version": "3.7.7"
  }
 },
 "nbformat": 4,
 "nbformat_minor": 4
}
