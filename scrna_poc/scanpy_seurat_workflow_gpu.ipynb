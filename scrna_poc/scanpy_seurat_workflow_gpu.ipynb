{
 "cells": [
  {
   "cell_type": "markdown",
   "metadata": {},
   "source": [
    "# RAPIDS & Scanpy Single-Cell RNA Workflow\n",
    "\n",
    "This notebook demonstrates an end-to-end single-cell RNA workflow that begins with preprocessing a `(n_gene, n_cell)` count matrix and results in a visualization of the clustered cells for further analysis. "
   ]
  },
  {
   "cell_type": "code",
   "execution_count": 1,
   "metadata": {},
   "outputs": [],
   "source": [
    "# Import requirements\n",
    "import numpy as np\n",
    "import scanpy as sc\n",
    "import sys\n",
    "import os\n",
    "\n",
    "import cupy as cp"
   ]
  },
  {
   "cell_type": "code",
   "execution_count": 2,
   "metadata": {},
   "outputs": [],
   "source": [
    "# Please note the csv file in in_file has been modified with the addition of `gene_name` to the very beginning of the csv index.\n",
    "in_file = \"/home/cjnolet/covid_omics_local/Counts_lung_cells.csv\"\n",
    "out_dir = \".\""
   ]
  },
  {
   "cell_type": "code",
   "execution_count": 3,
   "metadata": {},
   "outputs": [],
   "source": [
    "import cudf\n",
    "import anndata\n",
    "\n",
    "import time\n",
    "start = time.time()"
   ]
  },
  {
   "cell_type": "markdown",
   "metadata": {},
   "source": [
    "## Preprocessing Stage 1\n",
    "### (load counts -> filter -> normalize)"
   ]
  },
  {
   "cell_type": "code",
   "execution_count": 4,
   "metadata": {},
   "outputs": [
    {
     "name": "stdout",
     "output_type": "stream",
     "text": [
      "CPU times: user 3.84 s, sys: 2.15 s, total: 6 s\n",
      "Wall time: 5.97 s\n"
     ]
    }
   ],
   "source": [
    "%%time\n",
    "# Load data\n",
    "adata = cudf.read_csv(in_file)"
   ]
  },
  {
   "cell_type": "code",
   "execution_count": 5,
   "metadata": {},
   "outputs": [
    {
     "data": {
      "text/plain": [
       "Index(['gene_name', 'X101CV0ng_AAACCTGAGGTTCCTA.1',\n",
       "       'X101CV0ng_AAACCTGCAAGGCTCC.1', 'X101CV0ng_AAACCTGCACGAAATA.1',\n",
       "       'X101CV0ng_AAACCTGCAGCTATTG.1', 'X101CV0ng_AAACCTGGTGATGCCC.1',\n",
       "       'X101CV0ng_AAACCTGTCATCATTC.1', 'X101CV0ng_AAACCTGTCCCAGGTG.1',\n",
       "       'X101CV0ng_AAACGGGAGCTGATAA.1', 'X101CV0ng_AAACGGGCACATTTCT.1',\n",
       "       ...\n",
       "       'ZM3KACng_TTTGGTTGTGGGTCAA.1', 'ZM3KACng_TTTGGTTGTTTAGGAA.1',\n",
       "       'ZM3KACng_TTTGGTTTCCGAATGT.1', 'ZM3KACng_TTTGGTTTCTTGCCGT.1',\n",
       "       'ZM3KACng_TTTGTCAAGACTCGGA.1', 'ZM3KACng_TTTGTCACAAATACAG.1',\n",
       "       'ZM3KACng_TTTGTCACAGAGTGTG.1', 'ZM3KACng_TTTGTCACAGTTTACG.1',\n",
       "       'ZM3KACng_TTTGTCACATCCGCGA.1', 'ZM3KACng_TTTGTCACATGGATGG.1'],\n",
       "      dtype='object', length=39779)"
      ]
     },
     "execution_count": 5,
     "metadata": {},
     "output_type": "execute_result"
    }
   ],
   "source": [
    "adata.columns"
   ]
  },
  {
   "cell_type": "code",
   "execution_count": 6,
   "metadata": {},
   "outputs": [
    {
     "data": {
      "text/plain": [
       "0                None\n",
       "1             5S-rRNA\n",
       "2                 7SK\n",
       "3               7SK.1\n",
       "4               7SK.2\n",
       "             ...     \n",
       "32733     hsa-mir-335\n",
       "32734     hsa-mir-490\n",
       "32735    hsa-mir-7515\n",
       "32736    hsa-mir-8072\n",
       "32737          snoU13\n",
       "Name: gene_name, Length: 32738, dtype: object"
      ]
     },
     "execution_count": 6,
     "metadata": {},
     "output_type": "execute_result"
    }
   ],
   "source": [
    "adata['gene_name'].unique()"
   ]
  },
  {
   "cell_type": "code",
   "execution_count": 7,
   "metadata": {},
   "outputs": [
    {
     "data": {
      "text/plain": [
       "(32738, 39779)"
      ]
     },
     "execution_count": 7,
     "metadata": {},
     "output_type": "execute_result"
    }
   ],
   "source": [
    "adata.shape"
   ]
  },
  {
   "cell_type": "code",
   "execution_count": 8,
   "metadata": {},
   "outputs": [
    {
     "name": "stdout",
     "output_type": "stream",
     "text": [
      "CPU times: user 330 ms, sys: 7.32 ms, total: 337 ms\n",
      "Wall time: 337 ms\n"
     ]
    }
   ],
   "source": [
    "%%time\n",
    "mito_genes = adata[\"gene_name\"].str.startswith(\"MT-\")\n",
    "adata = adata.set_index(\"gene_name\")"
   ]
  },
  {
   "cell_type": "code",
   "execution_count": 9,
   "metadata": {},
   "outputs": [
    {
     "name": "stdout",
     "output_type": "stream",
     "text": [
      "CPU times: user 2.56 s, sys: 157 ms, total: 2.72 s\n",
      "Wall time: 2.72 s\n"
     ]
    }
   ],
   "source": [
    "%%time\n",
    "gpu_matrix = adata.as_gpu_matrix()"
   ]
  },
  {
   "cell_type": "code",
   "execution_count": 10,
   "metadata": {},
   "outputs": [
    {
     "name": "stdout",
     "output_type": "stream",
     "text": [
      "CPU times: user 4.33 ms, sys: 2.2 ms, total: 6.53 ms\n",
      "Wall time: 5.58 ms\n"
     ]
    }
   ],
   "source": [
    "%%time\n",
    "import cupy as cp\n",
    "gpu_array = cp.asarray(gpu_matrix, dtype=cp.float32)"
   ]
  },
  {
   "cell_type": "code",
   "execution_count": 11,
   "metadata": {},
   "outputs": [
    {
     "name": "stdout",
     "output_type": "stream",
     "text": [
      "CPU times: user 503 ms, sys: 337 ms, total: 840 ms\n",
      "Wall time: 850 ms\n"
     ]
    }
   ],
   "source": [
    "%%time\n",
    "# Move count matrix to sparse form to ease computational burden.\n",
    "# Transpose to `(n_cells, n_genes)` in sparse form since it has less computational demands\n",
    "sparse_gpu_array = cp.sparse.csr_matrix(gpu_array, dtype=cp.float32).T"
   ]
  },
  {
   "cell_type": "code",
   "execution_count": 12,
   "metadata": {},
   "outputs": [
    {
     "data": {
      "text/plain": [
       "(39778, 32738)"
      ]
     },
     "execution_count": 12,
     "metadata": {},
     "output_type": "execute_result"
    }
   ],
   "source": [
    "sparse_gpu_array.shape"
   ]
  },
  {
   "cell_type": "code",
   "execution_count": 13,
   "metadata": {},
   "outputs": [],
   "source": [
    "del adata\n",
    "del gpu_matrix"
   ]
  },
  {
   "cell_type": "code",
   "execution_count": 14,
   "metadata": {},
   "outputs": [
    {
     "name": "stdout",
     "output_type": "stream",
     "text": [
      "CPU times: user 1.68 s, sys: 1.36 s, total: 3.04 s\n",
      "Wall time: 3.04 s\n"
     ]
    }
   ],
   "source": [
    "%%time\n",
    "# Filter cells w/ 200 <= n_genes <= 6000\n",
    "# Copying to host (scipy.sparse.csr_matrix) just for filtering. \n",
    "# Ref: https://github.com/cupy/cupy/issues/2360\n",
    "col_sums = sparse_gpu_array.sum(axis=1)\n",
    "query = ((200 <= col_sums) & (col_sums <= 6000)).ravel()\n",
    "filtered_cells = sparse_gpu_array.get()[query.get()]"
   ]
  },
  {
   "cell_type": "code",
   "execution_count": 15,
   "metadata": {},
   "outputs": [
    {
     "name": "stdout",
     "output_type": "stream",
     "text": [
      "CPU times: user 394 ms, sys: 129 ms, total: 523 ms\n",
      "Wall time: 522 ms\n"
     ]
    }
   ],
   "source": [
    "%%time\n",
    "## Filter cells with >15% MT reads\n",
    "n_counts = filtered_cells.sum(axis=1)\n",
    "percent_mito = (filtered_cells[:,mito_genes.to_array()].sum(axis=1) / n_counts).ravel()\n",
    "filtered_cells = filtered_cells[np.asarray(percent_mito < 0.15).ravel(),:]"
   ]
  },
  {
   "cell_type": "code",
   "execution_count": 16,
   "metadata": {},
   "outputs": [
    {
     "name": "stdout",
     "output_type": "stream",
     "text": [
      "CPU times: user 61.6 ms, sys: 114 ms, total: 176 ms\n",
      "Wall time: 176 ms\n"
     ]
    }
   ],
   "source": [
    "%%time\n",
    "## Remove zero columns\n",
    "# Copying dense onto GPU for normalization\n",
    "thr = np.asarray(filtered_cells.sum(axis=0) > 0).ravel()\n",
    "filtered_cells = filtered_cells[:,thr]\n",
    "# filtered_cells = cp.array(filtered_cells.todense())"
   ]
  },
  {
   "cell_type": "code",
   "execution_count": 17,
   "metadata": {},
   "outputs": [
    {
     "data": {
      "text/plain": [
       "<34808x28192 sparse matrix of type '<class 'numpy.float32'>'\n",
       "\twith 58229152 stored elements in Compressed Sparse Column format>"
      ]
     },
     "execution_count": 17,
     "metadata": {},
     "output_type": "execute_result"
    }
   ],
   "source": [
    "filtered_cells"
   ]
  },
  {
   "cell_type": "code",
   "execution_count": 18,
   "metadata": {},
   "outputs": [
    {
     "name": "stdout",
     "output_type": "stream",
     "text": [
      "CPU times: user 1.77 s, sys: 655 ms, total: 2.43 s\n",
      "Wall time: 2.43 s\n"
     ]
    }
   ],
   "source": [
    "%%time\n",
    "import scipy\n",
    "## Normalize to sum to 1e4 and perform log norm\n",
    "target_sum = 1e4\n",
    "sums = np.array(target_sum / filtered_cells.sum(axis=1)).ravel()\n",
    "\n",
    "normalized = filtered_cells.multiply(sums[:, np.newaxis]) # Done on host for now\n",
    "normalized = cp.sparse.csr_matrix(normalized)"
   ]
  },
  {
   "cell_type": "code",
   "execution_count": 19,
   "metadata": {},
   "outputs": [
    {
     "name": "stdout",
     "output_type": "stream",
     "text": [
      "CPU times: user 233 µs, sys: 4.13 ms, total: 4.36 ms\n",
      "Wall time: 3.58 ms\n"
     ]
    }
   ],
   "source": [
    "%%time\n",
    "normalized = normalized.log1p()"
   ]
  },
  {
   "cell_type": "code",
   "execution_count": 20,
   "metadata": {},
   "outputs": [
    {
     "data": {
      "text/plain": [
       "(34808, 28192)"
      ]
     },
     "execution_count": 20,
     "metadata": {},
     "output_type": "execute_result"
    }
   ],
   "source": [
    "normalized.shape"
   ]
  },
  {
   "cell_type": "markdown",
   "metadata": {},
   "source": [
    "## Preprocess Stage 2\n",
    "### (regress -> scale -> PCA) "
   ]
  },
  {
   "cell_type": "code",
   "execution_count": 21,
   "metadata": {},
   "outputs": [
    {
     "name": "stdout",
     "output_type": "stream",
     "text": [
      "CPU times: user 107 ms, sys: 103 ms, total: 210 ms\n",
      "Wall time: 209 ms\n"
     ]
    }
   ],
   "source": [
    "%%time\n",
    "import anndata\n",
    "adata = anndata.AnnData(normalized.get())"
   ]
  },
  {
   "cell_type": "code",
   "execution_count": 22,
   "metadata": {},
   "outputs": [
    {
     "name": "stdout",
     "output_type": "stream",
     "text": [
      "CPU times: user 2.64 s, sys: 128 ms, total: 2.76 s\n",
      "Wall time: 2.76 s\n"
     ]
    }
   ],
   "source": [
    "%%time\n",
    "\n",
    "min_disp = 0.5\n",
    "\n",
    "sc.pp.highly_variable_genes(adata, min_mean=0.0125, max_mean=3, min_disp=min_disp)\n",
    "n_genes = sum(adata.var.highly_variable)\n",
    "adata = adata[:, adata.var.highly_variable]"
   ]
  },
  {
   "cell_type": "code",
   "execution_count": 23,
   "metadata": {},
   "outputs": [
    {
     "data": {
      "text/plain": [
       "(34808, 3397)"
      ]
     },
     "execution_count": 23,
     "metadata": {},
     "output_type": "execute_result"
    }
   ],
   "source": [
    "adata.X.shape"
   ]
  },
  {
   "cell_type": "code",
   "execution_count": 24,
   "metadata": {},
   "outputs": [],
   "source": [
    "# scanpy uses a Gaussian GLM w/ identity link, which is equivalent to Linear Regression w/  OLS."
   ]
  },
  {
   "cell_type": "code",
   "execution_count": 25,
   "metadata": {},
   "outputs": [],
   "source": [
    "n_counts = cp.array(n_counts).ravel()\n",
    "percent_mito = cp.array(percent_mito).ravel()"
   ]
  },
  {
   "cell_type": "code",
   "execution_count": 26,
   "metadata": {},
   "outputs": [],
   "source": [
    "regressors = cp.ones((n_counts.shape[0]*3)).reshape((n_counts.shape[0], 3), order=\"F\")"
   ]
  },
  {
   "cell_type": "code",
   "execution_count": 27,
   "metadata": {},
   "outputs": [],
   "source": [
    "regressors[:, 1] = n_counts\n",
    "regressors[:, 2] = percent_mito"
   ]
  },
  {
   "cell_type": "code",
   "execution_count": 28,
   "metadata": {},
   "outputs": [],
   "source": [
    "df_regressors = cudf.DataFrame.from_gpu_matrix(regressors)"
   ]
  },
  {
   "cell_type": "code",
   "execution_count": 29,
   "metadata": {},
   "outputs": [],
   "source": [
    "# For each gene, we want to subtract the predicted values from the original values to\n",
    "# regress out effects of total counts per cell and the percentage expressed of mitochondrial genes "
   ]
  },
  {
   "cell_type": "code",
   "execution_count": 30,
   "metadata": {},
   "outputs": [],
   "source": [
    "from cuml.linear_model import LinearRegression\n",
    "\n",
    "# NOTE: The tens of thousands of little regressions required in this step \n",
    "# pose a singificant bottleneck to this workflow.\n",
    "\n",
    "def _regress_out_chunk(data_chunk, regressors):\n",
    "    \"\"\"\n",
    "    Performs a data_cunk.shape[1] number of local linear regressions,\n",
    "    replacing the data in the original chunk w/ the regressed result. \n",
    "    \"\"\"\n",
    "    \n",
    "    output = []\n",
    "    \n",
    "    for col in range(data_chunk.shape[1]):\n",
    "        y = data_chunk[:,col]\n",
    "        X = regressors\n",
    "        lr = LinearRegression(fit_intercept=False)\n",
    "        lr.fit(X, y, convert_dtype=True)\n",
    "        mu = lr.predict(X)\n",
    "        \n",
    "        data_chunk[:, col] = y - mu\n",
    "\n",
    "    return data_chunk"
   ]
  },
  {
   "cell_type": "code",
   "execution_count": 31,
   "metadata": {},
   "outputs": [
    {
     "name": "stdout",
     "output_type": "stream",
     "text": [
      "CPU times: user 893 ms, sys: 437 ms, total: 1.33 s\n",
      "Wall time: 1.33 s\n"
     ]
    }
   ],
   "source": [
    "%%time\n",
    "normalized = cp.array(adata.X.todense(), order=\"F\")"
   ]
  },
  {
   "cell_type": "code",
   "execution_count": 32,
   "metadata": {},
   "outputs": [
    {
     "data": {
      "text/plain": [
       "(34808, 3397)"
      ]
     },
     "execution_count": 32,
     "metadata": {},
     "output_type": "execute_result"
    }
   ],
   "source": [
    "normalized.shape"
   ]
  },
  {
   "cell_type": "code",
   "execution_count": 33,
   "metadata": {},
   "outputs": [
    {
     "name": "stderr",
     "output_type": "stream",
     "text": [
      "bokeh.server.util - WARNING - Host wildcard '*' will allow connections originating from multiple (or possibly all) hostnames or IPs. Use non-wildcard values to restrict access explicitly\n"
     ]
    },
    {
     "name": "stdout",
     "output_type": "stream",
     "text": [
      "CPU times: user 405 ms, sys: 275 ms, total: 681 ms\n",
      "Wall time: 1.96 s\n"
     ]
    }
   ],
   "source": [
    "%%time\n",
    "from dask_cuda import LocalCUDACluster\n",
    "from dask.distributed import Client\n",
    "\n",
    "import dask.array as da\n",
    "\n",
    "cluster = LocalCUDACluster()\n",
    "client = Client(cluster)"
   ]
  },
  {
   "cell_type": "code",
   "execution_count": 34,
   "metadata": {},
   "outputs": [
    {
     "data": {
      "text/html": [
       "<table style=\"border: 2px solid white;\">\n",
       "<tr>\n",
       "<td style=\"vertical-align: top; border: 0px solid white\">\n",
       "<h3 style=\"text-align: left;\">Client</h3>\n",
       "<ul style=\"text-align: left; list-style: none; margin: 0; padding: 0;\">\n",
       "  <li><b>Scheduler: </b>tcp://127.0.0.1:44407</li>\n",
       "  <li><b>Dashboard: </b><a href='http://127.0.0.1:8787/status' target='_blank'>http://127.0.0.1:8787/status</a>\n",
       "</ul>\n",
       "</td>\n",
       "<td style=\"vertical-align: top; border: 0px solid white\">\n",
       "<h3 style=\"text-align: left;\">Cluster</h3>\n",
       "<ul style=\"text-align: left; list-style:none; margin: 0; padding: 0;\">\n",
       "  <li><b>Workers: </b>2</li>\n",
       "  <li><b>Cores: </b>2</li>\n",
       "  <li><b>Memory: </b>50.39 GB</li>\n",
       "</ul>\n",
       "</td>\n",
       "</tr>\n",
       "</table>"
      ],
      "text/plain": [
       "<Client: 'tcp://127.0.0.1:44407' processes=2 threads=2, memory=50.39 GB>"
      ]
     },
     "execution_count": 34,
     "metadata": {},
     "output_type": "execute_result"
    }
   ],
   "source": [
    "client"
   ]
  },
  {
   "cell_type": "code",
   "execution_count": 35,
   "metadata": {},
   "outputs": [
    {
     "name": "stdout",
     "output_type": "stream",
     "text": [
      "CPU times: user 49 ms, sys: 6.49 ms, total: 55.5 ms\n",
      "Wall time: 53.6 ms\n"
     ]
    }
   ],
   "source": [
    "%%time\n",
    "da_normalized = da.from_array(normalized, chunks=(-1, 1000), asarray=False)\n",
    "da_normalized = da_normalized.map_blocks(lambda cols: _regress_out_chunk(cols, df_regressors), \n",
    "                                         dtype=cp.float32)"
   ]
  },
  {
   "cell_type": "code",
   "execution_count": 36,
   "metadata": {},
   "outputs": [
    {
     "name": "stdout",
     "output_type": "stream",
     "text": [
      "CPU times: user 969 ms, sys: 1.49 s, total: 2.46 s\n",
      "Wall time: 19.2 s\n"
     ]
    }
   ],
   "source": [
    "%%time\n",
    "normalized = da_normalized.compute()"
   ]
  },
  {
   "cell_type": "code",
   "execution_count": 37,
   "metadata": {},
   "outputs": [],
   "source": [
    "client.close()\n",
    "cluster.close()"
   ]
  },
  {
   "cell_type": "code",
   "execution_count": 38,
   "metadata": {},
   "outputs": [
    {
     "data": {
      "text/plain": [
       "(34808, 3397)"
      ]
     },
     "execution_count": 38,
     "metadata": {},
     "output_type": "execute_result"
    }
   ],
   "source": [
    "normalized.shape"
   ]
  },
  {
   "cell_type": "code",
   "execution_count": 39,
   "metadata": {},
   "outputs": [
    {
     "name": "stdout",
     "output_type": "stream",
     "text": [
      "CPU times: user 6.2 ms, sys: 4.1 ms, total: 10.3 ms\n",
      "Wall time: 9.63 ms\n"
     ]
    }
   ],
   "source": [
    "%%time\n",
    "# Scale to unit variance and clip values w/ std_dev > 10\n",
    "mean = normalized.mean(axis=0)\n",
    "stddev = cp.sqrt(normalized.var(axis=0))\n",
    "normalized -= mean\n",
    "normalized /= stddev"
   ]
  },
  {
   "cell_type": "code",
   "execution_count": 40,
   "metadata": {},
   "outputs": [
    {
     "name": "stdout",
     "output_type": "stream",
     "text": [
      "CPU times: user 8.02 ms, sys: 8.01 ms, total: 16 ms\n",
      "Wall time: 16.1 ms\n"
     ]
    }
   ],
   "source": [
    "%%time\n",
    "normalized[normalized>10] = 10"
   ]
  },
  {
   "cell_type": "code",
   "execution_count": 41,
   "metadata": {},
   "outputs": [],
   "source": [
    "preprocess_time = time.time()"
   ]
  },
  {
   "cell_type": "code",
   "execution_count": 42,
   "metadata": {},
   "outputs": [
    {
     "name": "stdout",
     "output_type": "stream",
     "text": [
      "Total Preprocess time (includes data load): 44.704007387161255\n"
     ]
    }
   ],
   "source": [
    "print(\"Total Preprocess time (includes data load): %s\" % (preprocess_time-start))"
   ]
  },
  {
   "cell_type": "markdown",
   "metadata": {},
   "source": [
    "## Cluster & Visualize\n",
    "### (pca -> cluster -> visualize)"
   ]
  },
  {
   "cell_type": "code",
   "execution_count": 43,
   "metadata": {},
   "outputs": [],
   "source": [
    "cluster_start = time.time()"
   ]
  },
  {
   "cell_type": "code",
   "execution_count": 44,
   "metadata": {},
   "outputs": [
    {
     "name": "stderr",
     "output_type": "stream",
     "text": [
      "/share/software/miniconda3/envs/rapids-env5/lib/python3.7/site-packages/cuml/utils/input_utils.py:188: UserWarning: Expected column ('F') major order, but got the opposite. Converting data, this will result in additional memory utilization.\n",
      "  warnings.warn(\"Expected \" + order_to_str(order) + \" major order, \"\n"
     ]
    },
    {
     "name": "stdout",
     "output_type": "stream",
     "text": [
      "CPU times: user 622 ms, sys: 249 ms, total: 871 ms\n",
      "Wall time: 889 ms\n"
     ]
    }
   ],
   "source": [
    "%%time\n",
    "from cuml.decomposition import PCA\n",
    "normalized = PCA(n_components=50).fit_transform(normalized)"
   ]
  },
  {
   "cell_type": "code",
   "execution_count": 45,
   "metadata": {},
   "outputs": [
    {
     "name": "stdout",
     "output_type": "stream",
     "text": [
      "CPU times: user 31 ms, sys: 4.99 ms, total: 36 ms\n",
      "Wall time: 35.5 ms\n"
     ]
    }
   ],
   "source": [
    "%%time\n",
    "import anndata\n",
    "adata = anndata.AnnData(normalized.get())"
   ]
  },
  {
   "cell_type": "code",
   "execution_count": 46,
   "metadata": {},
   "outputs": [
    {
     "name": "stdout",
     "output_type": "stream",
     "text": [
      "CPU times: user 3.57 s, sys: 300 ms, total: 3.87 s\n",
      "Wall time: 3.81 s\n"
     ]
    }
   ],
   "source": [
    "%%time\n",
    "# KNN graph\n",
    "sc.pp.neighbors(adata, n_pcs=50, method='rapids')"
   ]
  },
  {
   "cell_type": "code",
   "execution_count": 47,
   "metadata": {},
   "outputs": [
    {
     "name": "stdout",
     "output_type": "stream",
     "text": [
      "WARNING: neighbors/connectivities have not been computed using umap\n",
      "AscontiguousArrayTime: 1.3589859008789062e-05\n",
      "UMAP TIME: 0.6140327453613281\n",
      "CPU times: user 372 ms, sys: 247 ms, total: 619 ms\n",
      "Wall time: 626 ms\n"
     ]
    }
   ],
   "source": [
    "%%time\n",
    "# UMAP\n",
    "sc.tl.umap(adata, method='rapids')"
   ]
  },
  {
   "cell_type": "code",
   "execution_count": 48,
   "metadata": {},
   "outputs": [
    {
     "name": "stdout",
     "output_type": "stream",
     "text": [
      "CPU times: user 125 ms, sys: 38.1 ms, total: 163 ms\n",
      "Wall time: 167 ms\n"
     ]
    },
    {
     "name": "stderr",
     "output_type": "stream",
     "text": [
      "/share/software/miniconda3/envs/rapids-env5/lib/python3.7/site-packages/cugraph/structure/graph.py:334: UserWarning: add_adj_list will be deprecated in next release. Use from_cudf_adjlist instead\n",
      "  Use from_cudf_adjlist instead')\n"
     ]
    }
   ],
   "source": [
    "%%time\n",
    "# Louvain clustering\n",
    "sc.tl.louvain(adata, flavor='rapids')"
   ]
  },
  {
   "cell_type": "code",
   "execution_count": 49,
   "metadata": {},
   "outputs": [
    {
     "data": {
      "image/png": "[encoded data removed]",
      "text/plain": [
       "<Figure size 432x288 with 1 Axes>"
      ]
     },
     "metadata": {},
     "output_type": "display_data"
    },
    {
     "name": "stdout",
     "output_type": "stream",
     "text": [
      "CPU times: user 863 ms, sys: 2.06 s, total: 2.92 s\n",
      "Wall time: 407 ms\n"
     ]
    }
   ],
   "source": [
    "%%time\n",
    "# Plot\n",
    "sc.pl.umap(adata, color='louvain')"
   ]
  },
  {
   "cell_type": "code",
   "execution_count": 50,
   "metadata": {},
   "outputs": [
    {
     "name": "stdout",
     "output_type": "stream",
     "text": [
      "Cluster time: 5.967181921005249\n"
     ]
    }
   ],
   "source": [
    "print(\"Cluster time: %s\" % (time.time() - cluster_start))"
   ]
  },
  {
   "cell_type": "code",
   "execution_count": 51,
   "metadata": {},
   "outputs": [
    {
     "name": "stdout",
     "output_type": "stream",
     "text": [
      "Full time: 50.690184116363525\n"
     ]
    }
   ],
   "source": [
    "print(\"Full time: %s\" % (time.time() - start))"
   ]
  }
 ],
 "metadata": {
  "kernelspec": {
   "display_name": "Python (rapids-env5)",
   "language": "python",
   "name": "rapids-env5"
  },
  "language_info": {
   "codemirror_mode": {
    "name": "ipython",
    "version": 3
   },
   "file_extension": ".py",
   "mimetype": "text/x-python",
   "name": "python",
   "nbconvert_exporter": "python",
   "pygments_lexer": "ipython3",
   "version": "3.7.7"
  }
 },
 "nbformat": 4,
 "nbformat_minor": 4
}
